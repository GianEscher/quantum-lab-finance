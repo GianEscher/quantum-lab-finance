{
  "nbformat": 4,
  "nbformat_minor": 0,
  "metadata": {
    "colab": {
      "provenance": [],
      "authorship_tag": "ABX9TyOmd3hRqBUO5xmwIakZCU0n",
      "include_colab_link": true
    },
    "kernelspec": {
      "name": "python3",
      "display_name": "Python 3"
    },
    "language_info": {
      "name": "python"
    }
  },
  "cells": [
    {
      "cell_type": "markdown",
      "metadata": {
        "id": "view-in-github",
        "colab_type": "text"
      },
      "source": [
        "<a href=\"https://colab.research.google.com/github/GianEscher/quantum-lab-finance/blob/main/markowitz.ipynb\" target=\"_parent\"><img src=\"https://colab.research.google.com/assets/colab-badge.svg\" alt=\"Open In Colab\"/></a>"
      ]
    },
    {
      "cell_type": "code",
      "execution_count": 1,
      "metadata": {
        "colab": {
          "base_uri": "https://localhost:8080/"
        },
        "id": "p7y4fYwjaPd9",
        "outputId": "4bf409f1-4e80-4243-8c13-020784d2f7f6"
      },
      "outputs": [
        {
          "output_type": "stream",
          "name": "stdout",
          "text": [
            "Requirement already satisfied: MarkupSafe>=2.0 in /usr/local/lib/python3.10/dist-packages (from Jinja2>=2.9->bokeh>=2.0->pandas-bokeh) (2.1.2)\n",
            "Requirement already satisfied: six>=1.5 in /usr/local/lib/python3.10/dist-packages (from python-dateutil>=2.8.1->pandas>=0.22.0->pandas-bokeh) (1.16.0)\n",
            "Installing collected packages: pandas-bokeh\n",
            "Successfully installed pandas-bokeh-0.5.5\n"
          ]
        }
      ],
      "source": [
        "!pip install yfinance\n",
        "!pip install pandas-bokeh\n",
        "\n",
        "\n",
        "\n"
      ]
    },
    {
      "cell_type": "code",
      "source": [
        "import pandas as pd\n",
        "import pandas_bokeh\n",
        "import yfinance as yfin\n",
        "import numpy as np\n",
        "from pandas_datareader import data as pdr\n",
        "yfin.pdr_override()\n",
        "\n",
        "import matplotlib.pyplot as plt"
      ],
      "metadata": {
        "id": "Wr8hb5eSbmU_"
      },
      "execution_count": 2,
      "outputs": []
    },
    {
      "cell_type": "markdown",
      "source": [
        "COMENTÁRIO TESTE"
      ],
      "metadata": {
        "id": "hfre0vbYUKiF"
      }
    },
    {
      "cell_type": "code",
      "source": [
        "\n",
        "#data_inicial = '2023-05-10'\n",
        "#data_final = '2023-05-16'     #stops 2 days before this dude\n",
        "\n",
        "stocks_registry = []\n",
        "gain = []\n",
        "volatility = []\n",
        "risks = []\n",
        "\n",
        "def setup():\n",
        "\n",
        "  n_stocks = input('insert the number of stocks, my dude: ')\n",
        "  data_inicial = input('insert the start data, as \"yy-mm-dd\": ')\n",
        "  data_final = input('insert the ending data, as \"yy-mm-dd\": ')\n",
        "\n",
        "  i=0\n",
        "  while(i<int(n_stocks)):\n",
        "\n",
        "    stocks_raw = []\n",
        "    stocks_gain = []\n",
        "\n",
        "    #apparently, if i append a global list inside another global list, any alterations made to the former will be DINAMICALLY updated in the latter too\n",
        "    #search for that later. seems like quite the phantasmagorical behaviour\n",
        "\n",
        "    stocks = input('insert the stock code: ')\n",
        "    history = pdr.DataReader(stocks, data_inicial, data_final)\n",
        "\n",
        "    stocks_raw = history['Open'].tolist()\n",
        "    \n",
        "    j=1\n",
        "    while(j<len(stocks_raw)):\n",
        "      stocks_gain.append((stocks_raw[j]-stocks_raw[j-1])/stocks_raw[j-1])\n",
        "      j+=1\n",
        "\n",
        "    stocks_registry.append(stocks_gain)\n",
        "\n",
        "    sum = 0\n",
        "    for a in stocks_gain:\n",
        "      sum += a\n",
        "    gain.append(sum/len(stocks_gain)) #calculate the mean value of my gains\n",
        "    \n",
        "    sd = 0\n",
        "    for a in stocks_gain:\n",
        "      sd += (a-sum)*(a-sum)\n",
        "    sd == np.sqrt(sd/len(stocks_gain) )   \n",
        "    volatility.append(sd)\n",
        "\n",
        "    #stocks_raw.clear()\n",
        "    #stocks_gain.clear()\n",
        "    i+=1\n",
        "\n",
        "  print(stocks_registry)\n",
        "  print(gain)\n",
        "  print(volatility)\n",
        "  \n",
        "  \n",
        "  #risk matrix building\n",
        "  i=0\n",
        "  while(i<len(volatility)):\n",
        "    j=0\n",
        "    row = []\n",
        "\n",
        "    while(j<len(volatility)):\n",
        "      if(i==j):\n",
        "        row.append(volatility[i]*volatility[i])\n",
        "        \n",
        "      else:\n",
        "        row.append(covar(stocks_registry[i],gain[i],stocks_registry[j],gain[j]))\n",
        "      j+=1\n",
        "\n",
        "    risks.append(row)\n",
        "    i+=1\n",
        "\n",
        "  print(risks)\n",
        "\n",
        "  \n",
        "  \n",
        "\n",
        "def covar(list_A, mean_A, list_B, mean_B):\n",
        "  sum = 0\n",
        "  i=0\n",
        "  lenght=len(list_A)\n",
        "\n",
        "  while(i<lenght):\n",
        "    sum+=(list_A[i]-mean_A)*(list_B[i]-mean_B)\n",
        "    i+=1\n",
        "    \n",
        "  return sum/lenght\n",
        "\n",
        "setup()"
      ],
      "metadata": {
        "colab": {
          "base_uri": "https://localhost:8080/"
        },
        "id": "dyK9BgIdbs66",
        "outputId": "cbd6f379-8828-435c-932d-f659f0bb4a1f"
      },
      "execution_count": 8,
      "outputs": [
        {
          "output_type": "stream",
          "name": "stdout",
          "text": [
            "insert the number of stocks, my dude: 3\n",
            "insert the start data, as \"yy-mm-dd\": 2023-05-10\n",
            "insert the ending data, as \"yy-mm-dd\": 2023-05-18\n",
            "insert the stock code: GOOG\n",
            "[*********************100%***********************]  1 of 1 completed\n",
            "insert the stock code: IBM\n",
            "[*********************100%***********************]  1 of 1 completed\n",
            "insert the stock code: AMZN\n",
            "[*********************100%***********************]  1 of 1 completed\n",
            "[[0.06734221421539956, 0.00983945609911022, -0.004358992617354434, 0.0029187395786784845, 0.028674128405522525], [0.00024591179459135395, -0.004999123076042907, 0.013096090024967555, 0.0028455160497649896, 0.0047831696358629425], [0.02710453604564312, 0.010177473612862954, -0.009005011619589259, -0.0008996713697553233, 0.034578984532768475]]\n",
            "[0.02088310913627127, 0.0031943128858287874, 0.012391262240385992]\n",
            "[0.03818933274874801, 0.0009928075623799977, 0.013631596150801202]\n",
            "[[0.001458425135794597, -5.555830988736158e-05, 0.00033194579685141964], [-5.555830988736158e-05, 9.856668559189129e-07, -3.9442856927226856e-05], [0.00033194579685141964, -3.9442856927226856e-05, 0.00018582041361853816]]\n"
          ]
        }
      ]
    },
    {
      "cell_type": "code",
      "source": [],
      "metadata": {
        "id": "ELUbdX7mnriN"
      },
      "execution_count": null,
      "outputs": []
    }
  ]
}