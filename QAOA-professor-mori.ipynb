{
 "cells": [
  {
   "cell_type": "code",
   "execution_count": 3,
   "id": "8bccc443-354f-496d-9411-a699ef6210fe",
   "metadata": {
    "tags": []
   },
   "outputs": [],
   "source": [
    "# Importing standard Qiskit libraries\n",
    "from qiskit import QuantumCircuit, transpile\n",
    "from qiskit.tools.jupyter import *\n",
    "from qiskit.visualization import *\n",
    "from ibm_quantum_widgets import *\n",
    "from qiskit_aer import AerSimulator\n",
    "\n",
    "# qiskit-ibmq-provider has been deprecated.\n",
    "# Please see the Migration Guides in https://ibm.biz/provider_migration_guide for more detail.\n",
    "from qiskit_ibm_runtime import QiskitRuntimeService, Sampler, Estimator, Session, Options\n",
    "\n",
    "# Loading your IBM Quantum account(s)\n",
    "service = QiskitRuntimeService(channel=\"ibm_quantum\")\n",
    "\n",
    "# Invoke a primitive inside a session. For more details see https://qiskit.org/documentation/partners/qiskit_ibm_runtime/tutorials.html\n",
    "# with Session(backend=service.backend(\"ibmq_qasm_simulator\")):\n",
    "#     result = Sampler().run(circuits).result()"
   ]
  },
  {
   "cell_type": "code",
   "execution_count": 4,
   "id": "ed5fe02f-3f00-4319-b837-ae1cf0f5743c",
   "metadata": {
    "tags": []
   },
   "outputs": [],
   "source": [
    "%%capture\n",
    "!pip install --upgrade pip\n",
    "!pip install jupyter\n",
    "!pip install myqlm\n",
    "!pip install myqlm-interop[qiskit_binder]\n",
    "!pip install numpy\n",
    "!pip install pyqubo\n",
    "!pip install scipy\n",
    "!pip install matplotlib\n",
    "from qat.lang.AQASM import Program, CNOT, H, RX, RY, RZ\n",
    "from qat.qpus import get_default_qpu\n",
    "import numpy as np\n",
    "from numpy import linalg\n",
    "from qat.qpus import PyLinalg\n",
    "import qiskit\n",
    "from qiskit import *\n",
    "from qiskit.aqua.components.optimizers import COBYLA,SLSQP,SPSA\n",
    "from qiskit.visualization import plot_histogram\n",
    "import numpy as np\n",
    "from numpy import pi\n",
    "import matplotlib.pyplot as plt\n",
    "import scipy\n",
    "from scipy import optimize\n",
    "import pandas as pd\n",
    "from pandas_datareader import data as pdr\n",
    "import yfinance as yf\n",
    "from qiskit.finance.applications.ising import portfolio\n",
    "from qiskit import Aer\n",
    "from qiskit.aqua import aqua_globals, QuantumInstance\n",
    "from qiskit.aqua.algorithms import QAOA\n",
    "from qiskit.aqua.components.optimizers import COBYLA\n",
    "\n",
    "%matplotlib inline\n",
    "\n",
    "\n",
    "yf.pdr_override()\n",
    "\n",
    "# Defina os ativos para os quais queremos os dados\n",
    "assets = ['AAPL', 'MSFT', 'GOOG', 'FB', 'AMZN']\n",
    "\n",
    "# Defina o intervalo de datas para o qual queremos os dados\n",
    "start_date = '2020-01-01'\n",
    "end_date = '2021-12-31'\n",
    "\n",
    "# Obtenha os dados do Yahoo Finance\n",
    "data = pdr.get_data_yahoo(assets, start=start_date, end=end_date)\n",
    "\n",
    "# Use apenas o preço de fechamento\n",
    "data = data['Close']\n",
    "\n",
    "# Calcule os retornos logarítmicos, que são mais apropriados para a análise financeira\n",
    "returns = np.log(data / data.shift(1))\n",
    "\n",
    "# Calcule os retornos médios e a matriz de covariância\n",
    "mu = returns.mean().values\n",
    "sigma = returns.cov().values\n",
    "\n",
    "# Defina o orçamento\n",
    "budget = 2\n",
    "\n",
    "# Crie uma instância do problema de otimização de portfólio\n",
    "portfolio = portfolio.Portfolio(expected_returns=mu, covariances=sigma, budget=budget)\n",
    "\n",
    "# Crie uma instância do algoritmo QAOA\n",
    "qaoa = QAOA(optimizer=COBYLA(), quantum_instance=QuantumInstance(backend=Aer.get_backend('statevector_simulator')))\n",
    "\n",
    "# Execute o algoritmo QAOA para encontrar a solução ótima\n",
    "result = qaoa.compute_minimum_eigenvalue(qubit_op)\n",
    "\n",
    "# Print the result\n",
    "print(\"RETORNOS\")\n",
    "print(returns)\n",
    "\n",
    "print(\"PORTFOLIO\")\n",
    "print(portfolio)\n",
    "print(result)"
   ]
  }
 ],
 "metadata": {
  "kernelspec": {
   "display_name": "Python 3 (ipykernel)",
   "language": "python",
   "name": "python3"
  },
  "language_info": {
   "codemirror_mode": {
    "name": "ipython",
    "version": 3
   },
   "file_extension": ".py",
   "mimetype": "text/x-python",
   "name": "python",
   "nbconvert_exporter": "python",
   "pygments_lexer": "ipython3",
   "version": "3.10.8"
  },
  "widgets": {
   "application/vnd.jupyter.widget-state+json": {
    "state": {
     "0112c864f9fc46de9eaac595c4771058": {
      "model_module": "@jupyter-widgets/base",
      "model_module_version": "2.0.0",
      "model_name": "LayoutModel",
      "state": {
       "width": "95px"
      }
     },
     "020a4fc55f994f6a8ea36f369b86f14b": {
      "model_module": "@jupyter-widgets/controls",
      "model_module_version": "2.0.0",
      "model_name": "ButtonModel",
      "state": {
       "button_style": "primary",
       "description": "Clear",
       "layout": "IPY_MODEL_e020953c568d4cc994df4de2618060cc",
       "style": "IPY_MODEL_8051696ffd30446aaad79d339e3d5d00",
       "tooltip": null
      }
     },
     "0214cc890159495d96c1ad67bca5db49": {
      "model_module": "@jupyter-widgets/controls",
      "model_module_version": "2.0.0",
      "model_name": "HTMLModel",
      "state": {
       "layout": "IPY_MODEL_5367e717ed6344ef97e493084397d220",
       "style": "IPY_MODEL_ee0376bcb0d446f9919d4305774901ae",
       "value": "<h5>Job ID</h5>"
      }
     },
     "0d0bc87ba6064faab3be52127a540a18": {
      "model_module": "@jupyter-widgets/controls",
      "model_module_version": "2.0.0",
      "model_name": "HBoxModel",
      "state": {
       "children": [
        "IPY_MODEL_0214cc890159495d96c1ad67bca5db49",
        "IPY_MODEL_66c978f1b8d64d10864284b751532131",
        "IPY_MODEL_f74ad56e95fe414eaf7a9fad72b8adca",
        "IPY_MODEL_71eed5eba3954aee8883f3ea1232393d",
        "IPY_MODEL_a374ce5c8a554644ad5c9d3d05fc4d54"
       ],
       "layout": "IPY_MODEL_94cff52538ff43f8afeb6ab3b065ce90"
      }
     },
     "147acdbdf4de4e5bb93553c5d309abce": {
      "model_module": "@jupyter-widgets/controls",
      "model_module_version": "2.0.0",
      "model_name": "HTMLStyleModel",
      "state": {
       "description_width": "",
       "font_size": null,
       "text_color": null
      }
     },
     "48f72e9d722b47549f182bf8e5ee1743": {
      "model_module": "@jupyter-widgets/controls",
      "model_module_version": "2.0.0",
      "model_name": "HTMLStyleModel",
      "state": {
       "description_width": "",
       "font_size": null,
       "text_color": null
      }
     },
     "5367e717ed6344ef97e493084397d220": {
      "model_module": "@jupyter-widgets/base",
      "model_module_version": "2.0.0",
      "model_name": "LayoutModel",
      "state": {
       "width": "190px"
      }
     },
     "5dc33cbcb0474e1ba43bd14b6e1c7c00": {
      "model_module": "@jupyter-widgets/controls",
      "model_module_version": "2.0.0",
      "model_name": "HTMLStyleModel",
      "state": {
       "description_width": "",
       "font_size": null,
       "text_color": null
      }
     },
     "66c978f1b8d64d10864284b751532131": {
      "model_module": "@jupyter-widgets/controls",
      "model_module_version": "2.0.0",
      "model_name": "HTMLModel",
      "state": {
       "layout": "IPY_MODEL_8f4da0af5cca48f5b45cfe5e8aca0369",
       "style": "IPY_MODEL_147acdbdf4de4e5bb93553c5d309abce",
       "value": "<h5>Backend</h5>"
      }
     },
     "71eed5eba3954aee8883f3ea1232393d": {
      "model_module": "@jupyter-widgets/controls",
      "model_module_version": "2.0.0",
      "model_name": "HTMLModel",
      "state": {
       "layout": "IPY_MODEL_7a119dc64a8e4763b0cb34be96f442e2",
       "style": "IPY_MODEL_863d6be9e2af4db696c6027741396132",
       "value": "<h5>Queue</h5>"
      }
     },
     "7a119dc64a8e4763b0cb34be96f442e2": {
      "model_module": "@jupyter-widgets/base",
      "model_module_version": "2.0.0",
      "model_name": "LayoutModel",
      "state": {
       "width": "70px"
      }
     },
     "7bf14e701d57483e8e1190ec755c679b": {
      "model_module": "@jupyter-widgets/base",
      "model_module_version": "2.0.0",
      "model_name": "LayoutModel",
      "state": {}
     },
     "7d43240b5fe1436d9dbe8a8dd6a8cf74": {
      "model_module": "@jupyter-widgets/controls",
      "model_module_version": "2.0.0",
      "model_name": "HTMLStyleModel",
      "state": {
       "description_width": "",
       "font_size": null,
       "text_color": null
      }
     },
     "8051696ffd30446aaad79d339e3d5d00": {
      "model_module": "@jupyter-widgets/controls",
      "model_module_version": "2.0.0",
      "model_name": "ButtonStyleModel",
      "state": {
       "font_family": null,
       "font_size": null,
       "font_style": null,
       "font_variant": null,
       "font_weight": null,
       "text_color": null,
       "text_decoration": null
      }
     },
     "863d6be9e2af4db696c6027741396132": {
      "model_module": "@jupyter-widgets/controls",
      "model_module_version": "2.0.0",
      "model_name": "HTMLStyleModel",
      "state": {
       "description_width": "",
       "font_size": null,
       "text_color": null
      }
     },
     "8af51fd885e24dd0b98cd3f508c0d83b": {
      "model_module": "@jupyter-widgets/base",
      "model_module_version": "2.0.0",
      "model_name": "LayoutModel",
      "state": {
       "grid_template_areas": "\n                                       \". . . . right \"\n                                        ",
       "grid_template_columns": "20% 20% 20% 20% 20%",
       "width": "100%"
      }
     },
     "8f4da0af5cca48f5b45cfe5e8aca0369": {
      "model_module": "@jupyter-widgets/base",
      "model_module_version": "2.0.0",
      "model_name": "LayoutModel",
      "state": {
       "width": "145px"
      }
     },
     "94cff52538ff43f8afeb6ab3b065ce90": {
      "model_module": "@jupyter-widgets/base",
      "model_module_version": "2.0.0",
      "model_name": "LayoutModel",
      "state": {
       "margin": "0px 0px 0px 37px",
       "width": "600px"
      }
     },
     "9bde4a5da055465692ac66d6a475f886": {
      "model_module": "@jupyter-widgets/controls",
      "model_module_version": "2.0.0",
      "model_name": "GridBoxModel",
      "state": {
       "children": [
        "IPY_MODEL_020a4fc55f994f6a8ea36f369b86f14b"
       ],
       "layout": "IPY_MODEL_8af51fd885e24dd0b98cd3f508c0d83b"
      }
     },
     "a374ce5c8a554644ad5c9d3d05fc4d54": {
      "model_module": "@jupyter-widgets/controls",
      "model_module_version": "2.0.0",
      "model_name": "HTMLModel",
      "state": {
       "layout": "IPY_MODEL_7bf14e701d57483e8e1190ec755c679b",
       "style": "IPY_MODEL_7d43240b5fe1436d9dbe8a8dd6a8cf74",
       "value": "<h5>Message</h5>"
      }
     },
     "a8484b8e4af1426fbada886bd4213c8c": {
      "model_module": "@jupyter-widgets/controls",
      "model_module_version": "2.0.0",
      "model_name": "HTMLModel",
      "state": {
       "layout": "IPY_MODEL_af2e56cfdf94458da31b8af6bf2751b1",
       "style": "IPY_MODEL_48f72e9d722b47549f182bf8e5ee1743",
       "value": "<p style='font-family: IBM Plex Sans, Arial, Helvetica, sans-serif; font-size: 20px; font-weight: medium;'>Circuit Properties</p>"
      }
     },
     "af2e56cfdf94458da31b8af6bf2751b1": {
      "model_module": "@jupyter-widgets/base",
      "model_module_version": "2.0.0",
      "model_name": "LayoutModel",
      "state": {
       "margin": "0px 0px 10px 0px"
      }
     },
     "e020953c568d4cc994df4de2618060cc": {
      "model_module": "@jupyter-widgets/base",
      "model_module_version": "2.0.0",
      "model_name": "LayoutModel",
      "state": {
       "grid_area": "right",
       "padding": "0px 0px 0px 0px",
       "width": "70px"
      }
     },
     "ee0376bcb0d446f9919d4305774901ae": {
      "model_module": "@jupyter-widgets/controls",
      "model_module_version": "2.0.0",
      "model_name": "HTMLStyleModel",
      "state": {
       "description_width": "",
       "font_size": null,
       "text_color": null
      }
     },
     "f74ad56e95fe414eaf7a9fad72b8adca": {
      "model_module": "@jupyter-widgets/controls",
      "model_module_version": "2.0.0",
      "model_name": "HTMLModel",
      "state": {
       "layout": "IPY_MODEL_0112c864f9fc46de9eaac595c4771058",
       "style": "IPY_MODEL_5dc33cbcb0474e1ba43bd14b6e1c7c00",
       "value": "<h5>Status</h5>"
      }
     }
    },
    "version_major": 2,
    "version_minor": 0
   }
  }
 },
 "nbformat": 4,
 "nbformat_minor": 5
}
