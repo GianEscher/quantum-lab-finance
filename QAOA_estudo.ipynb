{
  "nbformat": 4,
  "nbformat_minor": 0,
  "metadata": {
    "colab": {
      "provenance": [],
      "authorship_tag": "ABX9TyNbscuWn9B30+l8cz5QrpR4",
      "include_colab_link": true
    },
    "kernelspec": {
      "name": "python3",
      "display_name": "Python 3"
    },
    "language_info": {
      "name": "python"
    }
  },
  "cells": [
    {
      "cell_type": "markdown",
      "metadata": {
        "id": "view-in-github",
        "colab_type": "text"
      },
      "source": [
        "<a href=\"https://colab.research.google.com/github/GianEscher/quantum-lab-finance/blob/main/QAOA_estudo.ipynb\" target=\"_parent\"><img src=\"https://colab.research.google.com/assets/colab-badge.svg\" alt=\"Open In Colab\"/></a>"
      ]
    },
    {
      "cell_type": "code",
      "source": [
        "!pip install qiskit\n",
        "!pip install qiskit-finance"
      ],
      "metadata": {
        "colab": {
          "base_uri": "https://localhost:8080/"
        },
        "id": "oIjh4eL3Pesi",
        "outputId": "5409c6da-169f-42ac-94e6-94dfe34b7393"
      },
      "execution_count": 110,
      "outputs": [
        {
          "output_type": "stream",
          "name": "stdout",
          "text": [
      
          ]
        }
      ]
    },
    {
      "cell_type": "markdown",
      "source": [
        "primeiro teste de código - recuperar dados pelo yahoo finance\n",
        "\n",
        "erro: 1 Failed download:\n",
        "- FB: No timezone found, symbol may be delisted\n",
        "---------------------------------------------------------------------------\n",
        "DOcplexException                          Traceback (most recent call last)\n",
        "<ipython-input-67-81e21955475c> in <cell line: 68>()\n",
        "     66 \n",
        "     67 portfolio = PortfolioOptimization(expected_returns=mu, covariances=sigma, risk_factor=q, budget=budget)\n",
        "---> 68 qp = portfolio.to_quadratic_program()\n",
        "     69 \n",
        "     70 # Crie uma instância do algoritmo QAOA\n",
        "\n",
        "7 frames\n",
        "/usr/local/lib/python3.10/dist-packages/docplex/mp/error_handler.py in docplex_fatal(msg, *args)\n",
        "    254     resolved_message = resolve_pattern(msg, args)\n",
        "    255     docplex_error_stop_here()\n",
        "    \n",
        "--> 256     raise DOcplexException(resolved_message)\n",
        "    257 \n",
        "    258 def is_docplex_debug():\n",
        "\n",
        ":**DOcplexException: Expecting valid float number, got: nan**\n"
      ],
      "metadata": {
        "id": "Us9Os9zhe-u6"
      }
    },
    {
      "cell_type": "code",
      "execution_count": 101,
      "metadata": {
        "colab": {
          "base_uri": "https://localhost:8080/"
        },
        "id": "LEZflkTBJxXu",
        "outputId": "6a282d38-261a-4033-a89c-4607a55cbc95"
      },
      "outputs": [
        {
          "output_type": "stream",
          "name": "stdout",
          "text": [
            "[*********************100%***********************]  5 of 5 completed\n",
            "\n",
            "1 Failed download:\n",
            "- FB: No timezone found, symbol may be delisted\n",
            "RETORNOS\n",
            "                AAPL      AMZN  FB      GOOG      MSFT\n",
            "Date                                                  \n",
            "2020-01-02       NaN       NaN NaN       NaN       NaN\n",
            "2020-01-03 -0.009770 -0.012213 NaN -0.004919 -0.012530\n",
            "2020-01-06  0.007937  0.014776 NaN  0.024358  0.002581\n",
            "2020-01-07 -0.004714  0.002089 NaN -0.000624 -0.009160\n",
            "2020-01-08  0.015958 -0.007839 NaN  0.007850  0.015803\n",
            "...              ...       ...  ..       ...       ...\n",
            "2021-12-23  0.003637  0.000184 NaN  0.001316  0.004462\n",
            "2021-12-27  0.022715 -0.008212 NaN  0.006243  0.022921\n",
            "2021-12-28 -0.005784  0.005827 NaN -0.010974 -0.003510\n",
            "2021-12-29  0.000502 -0.008592 NaN  0.000386  0.002049\n",
            "2021-12-30 -0.006600 -0.003294 NaN -0.003432 -0.007721\n",
            "\n",
            "[504 rows x 5 columns]\n",
            "PORTFOLIO\n",
            "<qiskit_finance.applications.optimization.portfolio_optimization.PortfolioOptimization object at 0x7f0fb91f2620>\n"
          ]
        }
      ],
      "source": [
        "import numpy as np\n",
        "import pandas as pd\n",
        "from pandas_datareader import data as pdr\n",
        "import yfinance as yf\n",
        "#from qiskit.finance.applications.ising import portfolio\n",
        "from qiskit_finance.applications.optimization import PortfolioOptimization\n",
        "\n",
        "from qiskit import Aer\n",
        "#from qiskit.aqua import aqua_globals, QuantumInstance\n",
        "#from qiskit.aqua.algorithms import QAOA\n",
        "from qiskit.algorithms.minimum_eigensolvers import QAOA\n",
        "#from qiskit.aqua.components.optimizers import COBYLA\n",
        "from qiskit.algorithms.optimizers import COBYLA\n",
        "\n",
        "yf.pdr_override()\n",
        "\n",
        "# Defina os ativos para os quais queremos os dados!!!!!!!!!!!!!\n",
        "assets = ['AAPL', 'MSFT', 'GOOG', 'FB', 'AMZN']\n",
        "\n",
        "# Defina o intervalo de datas para o qual queremos os dados\n",
        "start_date = '2020-01-01'\n",
        "end_date = '2021-12-31'\n",
        "\n",
        "# Obtenha os dados do Yahoo Finance!!!!!!!!!!!\n",
        "data = pdr.get_data_yahoo(assets, start=start_date, end=end_date)\n",
        "\n",
        "# Use apenas o preço de fechamento!!!!!!!!\n",
        "data = data['Close']\n",
        "\n",
        "# Calcule os retornos logarítmicos, que são mais apropriados para a análise financeira!!!!!!\n",
        "returns = np.log(data / data.shift(1))\n",
        "\n",
        "# Calcule os retornos médios e a matriz de covariância!!!!!\n",
        "mu = returns.mean().values\n",
        "\n",
        "# Generate expected return and covariance matrix from (random) time-series\n",
        "sigma = returns.cov().values\n",
        "\n",
        "# Defina o orçamento\n",
        "budget = 2\n",
        "\n",
        "# Crie uma instância do problema de otimização de portfólio\n",
        "#portfolio = portfolio.Portfolio(expected_returns=mu, covariances=sigma, budget=budget) PROVAVELMENTE DEPRECIADO\n",
        "# AO INVES DE --- from qiskit.finance.applications.ising import portfolio\n",
        "#USAR ----------- from qiskit_finance.applications.optimization import PortfolioOptimization\n",
        "\n",
        "#NOVA CRIAÇÃO DE OBJETO portfolio REQUER FATOR DE RISCO\n",
        "q = float(0.5)\n",
        "\n",
        "portfolio = PortfolioOptimization(expected_returns=mu, covariances=sigma, risk_factor=q, budget=budget)\n",
        "\n",
        "print(\"RETORNOS\")\n",
        "print(returns)\n",
        "\n",
        "print(\"PORTFOLIO\")\n",
        "print(portfolio)\n",
        "\n",
        "# Crie uma instância do algoritmo QAOA\n",
        "#qaoa = QAOA(optimizer=COBYLA(), quantum_instance=QuantumInstance(backend=Aer.get_backend('statevector_simulator')))\n",
        "#SUPOSTAMENTE DEPRECIADA - LER O BLOCO DE TEXO ABAIXO!\n",
        "\n",
        "# Execute o algoritmo QAOA para encontrar a solução ótima\n",
        "#result = qaoa.compute_minimum_eigenvalue(qubit_op)\n",
        "\n",
        "# Print the result\n",
        "#print(result)"
      ]
    },
    {
      "cell_type": "markdown",
      "source": [
        "https://github.com/qiskit-community/qiskit-aqua/issues/504  ----> essa página permite entender que a seguinte instância do QAOA\n",
        "\n",
        "> qaoa = QAOA(optimizer=COBYLA(), quantum_instance=QuantumInstance(backend=Aer.get_backend('statevector_simulator')))\n",
        "\n",
        " -> aparenta depender do framework aqua, e portanto estaria depreciada\n",
        "\n",
        "> DOCUMENTAÇÃO ORIGINAL REFERENTE À QAOA(optmizer, quantum_intance, backend) e quantum_instance = QuantumInstance(backend=backend, seed=seed, seed_transpiler=seed) REMOVIDA\n",
        "\n"
      ],
      "metadata": {
        "id": "khgKD1JiijSv"
      }
    },
    {
      "cell_type": "code",
      "execution_count": 123,
      "metadata": {
        "colab": {
          "base_uri": "https://localhost:8080/"
        },
        "id": "IX5kc-PVe4d5",
        "outputId": "40625672-c2e4-4b70-9afb-41cb1b32deab"
      },
      "outputs": [
        {
          "output_type": "stream",
          "name": "stdout",
          "text": [
            "[*********************100%***********************]  5 of 5 completed\n",
            "        AAPL      MSFT      META      GOOG      AMZN\n",
            "0  -0.003371  0.001296  0.025324 -0.004443 -0.014346\n",
            "1  -0.007983 -0.018901 -0.008584 -0.009521 -0.033146\n",
            "2  -0.025370 -0.020304 -0.067876 -0.025633 -0.030326\n",
            "3  -0.013785 -0.003060 -0.001665 -0.022197  0.002380\n",
            "4   0.012133  0.012399  0.012288 -0.012612  0.021366\n",
            "5  -0.003435 -0.008003  0.004942 -0.009367 -0.013946\n",
            "6   0.016390  0.028889 -0.010267  0.005265  0.016388\n",
            "7   0.006782  0.017465  0.047424  0.024476  0.021425\n",
            "8  -0.015536  0.001168  0.011985 -0.005634 -0.009839\n",
            "9  -0.046854 -0.031918 -0.044740 -0.043122 -0.034178\n",
            "10 -0.014579 -0.017349  0.028239 -0.003728 -0.006670\n",
            "11 -0.015910 -0.017328 -0.041447 -0.018820 -0.033462\n",
            "12 -0.000529  0.005614  0.022799  0.005384  0.003180\n",
            "13  0.023809  0.010877  0.022803  0.006917  0.018547\n",
            "14 -0.023773 -0.025529 -0.022044 -0.022050 -0.034344\n",
            "15 -0.002798  0.002267  0.007855  0.017562  0.017425\n",
            "16 -0.013878 -0.007414 -0.009827 -0.020933 -0.025924\n",
            "17 -0.030685 -0.010255 -0.010780 -0.016718 -0.014692\n",
            "18  0.028324  0.027630  0.040131  0.028799  0.028844\n",
            "19  0.002469 -0.004938  0.000665 -0.002473 -0.002138\n",
            "[-0.0064289  -0.00286965  0.00036128 -0.00644238 -0.00617289]\n",
            "[[0.00034425 0.00027133 0.00036086 0.00026643 0.00032582]\n",
            " [0.00027133 0.00028154 0.00032417 0.00023654 0.00032355]\n",
            " [0.00036086 0.00032417 0.0008381  0.00040417 0.00045421]\n",
            " [0.00026643 0.00023654 0.00040417 0.00031514 0.00030511]\n",
            " [0.00032582 0.00032355 0.00045421 0.00030511 0.00046511]]\n"
          ]
        }
      ],
      "source": [
        "import numpy as np\n",
        "import pandas as pd\n",
        "from pandas_datareader import data as pdr\n",
        "import yfinance as yf\n",
        "\n",
        "#yf.pdr_override()\n",
        "\n",
        "#from qiskit.finance.applications.ising import portfolio\n",
        "from qiskit_finance import *\n",
        "from qiskit_finance.applications import *\n",
        "from qiskit_finance.applications.optimization import PortfolioOptimization\n",
        "\n",
        "from qiskit import Aer\n",
        "#from qiskit.aqua import aqua_globals, QuantumInstance\n",
        "#from qiskit.aqua.algorithms import QAOA\n",
        "from qiskit.algorithms.minimum_eigensolvers import QAOA\n",
        "#from qiskit.aqua.components.optimizers import COBYLA\n",
        "from qiskit.algorithms.optimizers import COBYLA\n",
        "\n",
        "from qiskit.algorithms.minimum_eigensolvers import NumPyMinimumEigensolver, QAOA, SamplingVQE\n",
        "from qiskit.algorithms.optimizers import COBYLA\n",
        "from qiskit.circuit.library import TwoLocal\n",
        "from qiskit.result import QuasiDistribution\n",
        "from qiskit_aer.primitives import Sampler\n",
        "from qiskit_finance.applications.optimization import PortfolioOptimization\n",
        "from qiskit_finance.data_providers import RandomDataProvider\n",
        "from qiskit_optimization.algorithms import MinimumEigenOptimizer\n",
        "import numpy as np\n",
        "import matplotlib.pyplot as plt\n",
        "import datetime\n",
        "\n",
        "\n",
        "yf.pdr_override()\n",
        "\n",
        "# Defina os ativos para os quais queremos os dados!!!!!!!!!!!!!\n",
        "assets = ['AAPL', 'MSFT', 'META', 'GOOG', 'AMZN']#ChatGpt utilizou FB ao invés de META - gerando séries de 'nan'\n",
        "\n",
        "# Defina o intervalo de datas para o qual queremos os dados\n",
        "start_date = '2022-12-01'\n",
        "end_date = '2022-12-31'\n",
        "\n",
        "# Obtenha os dados do Yahoo Finance!!!!!!!!!!!\n",
        "#data_raw = pdr.get_data_yahoo(assets, start=start_date, end=end_date) \n",
        "data_raw = pdr.DataReader(assets, start=start_date, end=end_date)\n",
        "\n",
        "# Use apenas o preço de fechamento!!!!!!!!\n",
        "data = []\n",
        "data = data_raw['Close']\n",
        "\n",
        "#CALCULAR OS RETORNOS LOGARITMICOS GERA ERRO NA OTIMIZAÇÃO POR QAOA\n",
        "#o laço while abaixo calcula os erros percentuais consecutivos\n",
        "\n",
        "returns_dictio = {}\n",
        "i = 0\n",
        "while(i<len(assets)):\n",
        "  j=1\n",
        "  stocks_registry = []\n",
        "  key = assets[i]\n",
        "  while(j<len(data[key])):\n",
        "    stocks_registry.append((data[key][j]-data[key][j-1])/data[key][j-1])\n",
        "    j+=1\n",
        "  returns_dictio[key] = stocks_registry\n",
        "  i +=1\n",
        "\n",
        "returns = pd.DataFrame(returns_dictio)\n",
        "print(returns)\n",
        "\n",
        "# Calcule os retornos médios e a matriz de covariância!!!!!\n",
        "mu = returns.mean().values\n",
        "sigma = returns.cov().values\n",
        "\n",
        "print(mu)\n",
        "print(sigma)\n",
        "\n",
        "# Defina o orçamento\n",
        "budget = 2\n",
        "\n",
        "# Crie uma instância do problema de otimização de portfólio\n",
        "#portfolio = portfolio.Portfolio(expected_returns=mu, covariances=sigma, budget=budget)\n",
        "\n",
        "q = float(0.5)\n",
        "\n",
        "portfolio = PortfolioOptimization(expected_returns=mu, covariances=sigma, risk_factor=q, budget=budget)\n",
        "qp = portfolio.to_quadratic_program()\n",
        "\n",
        "# Crie uma instância do algoritmo QAOA\n",
        "#qaoa = QAOA(optimizer=COBYLA(), quantum_instance=QuantumInstance(backend=Aer.get_backend('statevector_simulator')))\n",
        "\n",
        "# Execute o algoritmo QAOA para encontrar a solução ótima\n",
        "#result = qaoa.compute_minimum_eigenvalue(qubit_op)\n",
        "\n",
        "# Print the result\n",
        "#print(result)"
      ]
    },
    {
      "cell_type": "markdown",
      "source": [
        "\n",
        "ABAIXO SEGUE ERRO GERADO PELO QAOA, SE CÁLCULO DO RETORNO LOGARITMICO FOR USADO:\n",
        "\n",
        "> ValueError                                Traceback (most recent call last)\n",
        "<ipython-input-95-0fb84eb29595> in <cell line: 7>()\n",
        "      5 qaoa_mes = QAOA(sampler=Sampler(), optimizer=cobyla, reps=3)\n",
        "      6 qaoa = MinimumEigenOptimizer(qaoa_mes)\n",
        "----> 7 result = qaoa.solve(qp)\n",
        "      8 \n",
        "      9 print_result(result)\n",
        "      \n",
        "\n",
        "\n",
        "> 11 frames\n",
        "/usr/local/lib/python3.10/dist-packages/qiskit/circuit/library/pauli_evolution.py in _to_sparse_pauli_op(operator)\n",
        "    171 \n",
        "    172     if any(np.iscomplex(sparse_pauli.coeffs)):\n",
        "--> 173         raise ValueError(\"Operator contains complex coefficients, which are not supported.\")\n",
        "    174     if any(isinstance(coeff, ParameterExpression) for coeff in sparse_pauli.coeffs):\n",
        "    175         raise ValueError(\"Operator contains ParameterExpression, which are not supported.\")\n",
        "\n",
        "ValueError: Operator contains complex coefficients, which are not supported.\n",
        "\n",
        "\n",
        "\n",
        "\n",
        "\n",
        "\n"
      ],
      "metadata": {
        "id": "Vsjc9LmypnbU"
      }
    },
    {
      "cell_type": "code",
      "source": [
        "algorithm_globals.random_seed = 1234\n",
        "\n",
        "cobyla = COBYLA()\n",
        "cobyla.set_options(maxiter=250)\n",
        "qaoa_mes = QAOA(sampler=Sampler(), optimizer=cobyla, reps=3)\n",
        "qaoa = MinimumEigenOptimizer(qaoa_mes)\n",
        "result = qaoa.solve(qp)\n",
        "\n",
        "print_result(result)"
      ],
      "metadata": {
        "colab": {
          "base_uri": "https://localhost:8080/"
        },
        "id": "vqXWMIWfaO9G",
        "outputId": "e1558a58-202a-464c-e039-cfea56e2e7aa"
      },
      "execution_count": 124,
      "outputs": [
        {
          "output_type": "stream",
          "name": "stdout",
          "text": [
            "Optimal: selection [0. 1. 1. 0. 0.], value 0.0034\n",
            "\n",
            "----------------- Full result ---------------------\n",
            "selection\tvalue\t\tprobability\n",
            "---------------------------------------------------\n",
            "[1 0 0 0 1]\t0.0133\t\t0.0752\n",
            "[0 1 1 0 0]\t0.0034\t\t0.0674\n",
            "[0 0 1 0 1]\t0.0069\t\t0.0654\n",
            "[0 1 0 1 0]\t0.0098\t\t0.0645\n",
            "[0 0 0 1 1]\t0.0133\t\t0.0605\n",
            "[1 1 0 0 0]\t0.0099\t\t0.0576\n",
            "[1 0 1 0 0]\t0.0070\t\t0.0566\n",
            "[0 0 1 1 0]\t0.0071\t\t0.0557\n",
            "[0 1 0 0 1]\t0.0097\t\t0.0547\n",
            "[1 0 0 1 0]\t0.0135\t\t0.0518\n",
            "[0 1 1 0 1]\t0.0106\t\t0.0400\n",
            "[1 0 1 1 0]\t0.0143\t\t0.0342\n",
            "[1 0 0 0 0]\t0.0066\t\t0.0322\n",
            "[0 1 0 1 1]\t0.0169\t\t0.0303\n",
            "[1 1 1 0 0]\t0.0106\t\t0.0303\n",
            "[0 0 1 1 1]\t0.0142\t\t0.0293\n",
            "[1 0 0 1 1]\t0.0205\t\t0.0244\n",
            "[0 1 0 0 0]\t0.0030\t\t0.0234\n",
            "[1 1 0 1 0]\t0.0170\t\t0.0215\n",
            "[1 1 0 0 1]\t0.0169\t\t0.0215\n",
            "[0 0 1 0 0]\t0.0001\t\t0.0205\n",
            "[0 1 1 1 0]\t0.0106\t\t0.0205\n",
            "[1 0 1 0 1]\t0.0142\t\t0.0205\n",
            "[0 0 0 1 0]\t0.0066\t\t0.0166\n",
            "[0 0 0 0 1]\t0.0064\t\t0.0127\n",
            "[1 1 1 1 1]\t0.0259\t\t0.0088\n",
            "[0 0 0 0 0]\t0.0000\t\t0.0020\n",
            "[1 0 1 1 1]\t0.0218\t\t0.0010\n",
            "[1 1 1 1 0]\t0.0181\t\t0.0010\n"
          ]
        }
      ]
    },
    {
      "cell_type": "markdown",
      "source": [
        "ABAIXO SEGUE IMPLEMENTAÇÃO ATUAL DO QAOA, UTILIZANDO VALORES ALEATÓRIOS GERADOS POR RandomDataProvider()\n",
        "\n",
        "\n",
        "\n",
        "> DISPONÍVEL EM: https://qiskit.org/ecosystem/finance/tutorials/01_portfolio_optimization.html\n",
        "\n"
      ],
      "metadata": {
        "id": "JJExxTVzqKNu"
      }
    },
    {
      "cell_type": "code",
      "source": [
        "from qiskit.algorithms.minimum_eigensolvers import NumPyMinimumEigensolver, QAOA, SamplingVQE\n",
        "from qiskit.algorithms.optimizers import COBYLA\n",
        "from qiskit.circuit.library import TwoLocal\n",
        "from qiskit.result import QuasiDistribution\n",
        "from qiskit_aer.primitives import Sampler\n",
        "from qiskit_finance.applications.optimization import PortfolioOptimization\n",
        "from qiskit_finance.data_providers import RandomDataProvider\n",
        "from qiskit_optimization.algorithms import MinimumEigenOptimizer\n",
        "import numpy as np\n",
        "import matplotlib.pyplot as plt\n",
        "import datetime\n",
        "\n",
        "# set number of assets (= number of qubits)\n",
        "num_assets = 4\n",
        "seed = 123\n",
        "\n",
        "# Generate expected return and covariance matrix from (random) time-series\n",
        "stocks = [(\"TICKER%s\" % i) for i in range(num_assets)]\n",
        "data = RandomDataProvider(\n",
        "    tickers=stocks,\n",
        "    start=datetime.datetime(2016, 1, 1),\n",
        "    end=datetime.datetime(2016, 1, 30),\n",
        "    seed=seed,\n",
        ")\n",
        "data.run()\n",
        "mu = data.get_period_return_mean_vector()\n",
        "sigma = data.get_period_return_covariance_matrix()\n",
        "\n"
      ],
      "metadata": {
        "id": "iseRTaBMcKd5"
      },
      "execution_count": 87,
      "outputs": []
    },
    {
      "cell_type": "code",
      "source": [
        "q = 0.5  # set risk factor\n",
        "budget = num_assets // 2  # set budget\n",
        "penalty = num_assets  # set parameter to scale the budget penalty term\n",
        "\n",
        "portfolio = PortfolioOptimization(\n",
        "    expected_returns=mu, covariances=sigma, risk_factor=q, budget=budget\n",
        ")\n",
        "qp = portfolio.to_quadratic_program()\n",
        "qp"
      ],
      "metadata": {
        "colab": {
          "base_uri": "https://localhost:8080/"
        },
        "id": "56nvb2LdcTl3",
        "outputId": "cb1c8f05-3bad-4444-b5e3-144fb1131708"
      },
      "execution_count": 88,
      "outputs": [
        {
          "output_type": "execute_result",
          "data": {
            "text/plain": [
              "<QuadraticProgram: minimize 0.001270694296030004*x_0^2 + 7.34022166934733e-05*..., 4 variables, 1 constraints, 'Portfolio optimization'>"
            ]
          },
          "metadata": {},
          "execution_count": 88
        }
      ]
    },
    {
      "cell_type": "code",
      "source": [
        "def print_result(result):\n",
        "    selection = result.x\n",
        "    value = result.fval\n",
        "    print(\"Optimal: selection {}, value {:.4f}\".format(selection, value))\n",
        "\n",
        "    eigenstate = result.min_eigen_solver_result.eigenstate\n",
        "    probabilities = (\n",
        "        eigenstate.binary_probabilities()\n",
        "        if isinstance(eigenstate, QuasiDistribution)\n",
        "        else {k: np.abs(v) ** 2 for k, v in eigenstate.to_dict().items()}\n",
        "    )\n",
        "    print(\"\\n----------------- Full result ---------------------\")\n",
        "    print(\"selection\\tvalue\\t\\tprobability\")\n",
        "    print(\"---------------------------------------------------\")\n",
        "    probabilities = sorted(probabilities.items(), key=lambda x: x[1], reverse=True)\n",
        "\n",
        "    for k, v in probabilities:\n",
        "        x = np.array([int(i) for i in list(reversed(k))])\n",
        "        value = portfolio.to_quadratic_program().objective.evaluate(x)\n",
        "        print(\"%10s\\t%.4f\\t\\t%.4f\" % (x, value, v))"
      ],
      "metadata": {
        "id": "2VJ8HLY9cdLY"
      },
      "execution_count": 89,
      "outputs": []
    },
    {
      "cell_type": "code",
      "source": [
        "algorithm_globals.random_seed = 1234\n",
        "\n",
        "cobyla = COBYLA()\n",
        "cobyla.set_options(maxiter=250)\n",
        "qaoa_mes = QAOA(sampler=Sampler(), optimizer=cobyla, reps=3)\n",
        "qaoa = MinimumEigenOptimizer(qaoa_mes)\n",
        "result = qaoa.solve(qp)\n",
        "\n",
        "print_result(result)"
      ],
      "metadata": {
        "id": "NuZKR1TwqEAh"
      },
      "execution_count": null,
      "outputs": []
    }
  ]
}
