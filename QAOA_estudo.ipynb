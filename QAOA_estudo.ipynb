{
  "nbformat": 4,
  "nbformat_minor": 0,
  "metadata": {
    "colab": {
      "provenance": [],
      "authorship_tag": "ABX9TyP4q1oIgRbwjpHx847czC6R",
      "include_colab_link": true
    },
    "kernelspec": {
      "name": "python3",
      "display_name": "Python 3"
    },
    "language_info": {
      "name": "python"
    }
  },
  "cells": [
    {
      "cell_type": "markdown",
      "metadata": {
        "id": "view-in-github",
        "colab_type": "text"
      },
      "source": [
        "<a href=\"https://colab.research.google.com/github/GianEscher/quantum-lab-finance/blob/main/QAOA_estudo.ipynb\" target=\"_parent\"><img src=\"https://colab.research.google.com/assets/colab-badge.svg\" alt=\"Open In Colab\"/></a>"
      ]
    },
    {
      "cell_type": "markdown",
      "source": [
        "<h1> Estudo de implementação do algoritmo QAOA de otimização de portfolios</h1>\n",
        "\n",
        "O presente caderno de códigos contém duas implementações do QAOA: \n",
        "- A versão elaborada via ChatGPT (Não-funcional)\n",
        "- O algoritmo de otimização QAOA modificado (funcional)\n",
        "\n",
        "Segue abaixo a instalação das bibliotecas necessárias e o script elaborado via ChatGPT:\n",
        "\n"
      ],
      "metadata": {
        "id": "BxKYGGr8NGYe"
      }
    },
    {
      "cell_type": "code",
      "source": [
        "!pip install qiskit\n",
        "!pip install qiskit-finance"
      ],
      "metadata": {
        "id": "oIjh4eL3Pesi"
      },
      "execution_count": null,
      "outputs": []
    },
    {
      "cell_type": "code",
      "source": [
        "import numpy as np\n",
        "import pandas as pd\n",
        "from pandas_datareader import data as pdr\n",
        "import yfinance as yf\n",
        "from qiskit.finance.applications.ising import portfolio\n",
        "\n",
        "from qiskit import Aer\n",
        "from qiskit.aqua import aqua_globals, QuantumInstance\n",
        "from qiskit.aqua.algorithms import QAOA\n",
        "from qiskit.aqua.components.optimizers import COBYLA\n",
        "\n",
        "yf.pdr_override()\n",
        "\n",
        "# Defina os ativos para os quais queremos os dados\n",
        "assets = ['AAPL', 'MSFT', 'GOOG', 'FB', 'AMZN']\n",
        "\n",
        "# Defina o intervalo de datas para o qual queremos os dados\n",
        "start_date = '2020-01-01'\n",
        "end_date = '2021-12-31'\n",
        "\n",
        "# Obtenha os dados do Yahoo Finance\n",
        "data = pdr.get_data_yahoo(assets, start=start_date, end=end_date)\n",
        "\n",
        "# Use apenas o preço de fechamento\n",
        "data = data['Close']\n",
        "\n",
        "# Calcule os retornos logarítmicos, que são mais apropriados para a análise financeira\n",
        "returns = np.log(data / data.shift(1))\n",
        "\n",
        "# Calcule os retornos médios e a matriz de covariância\n",
        "mu = returns.mean().values\n",
        "\n",
        "# Generate expected return and covariance matrix from (random) time-series\n",
        "sigma = returns.cov().values\n",
        "\n",
        "# Defina o orçamento\n",
        "budget = 2\n",
        "\n",
        "# Crie uma instância do problema de otimização de portfólio\n",
        "portfolio = portfolio.Portfolio(expected_returns=mu, covariances=sigma, budget=budget) PROVAVELMENTE DEPRECIADO\n",
        "\n",
        "print(\"RETORNOS\")\n",
        "print(returns)\n",
        "\n",
        "print(\"PORTFOLIO\")\n",
        "print(portfolio)\n",
        "\n",
        "# Crie uma instância do algoritmo QAOA\n",
        "#qaoa = QAOA(optimizer=COBYLA(), quantum_instance=QuantumInstance(backend=Aer.get_backend('statevector_simulator')))\n",
        "#SUPOSTAMENTE DEPRECIADA - LER O BLOCO DE TEXO ABAIXO!\n",
        "\n",
        "# Execute o algoritmo QAOA para encontrar a solução ótima\n",
        "#result = qaoa.compute_minimum_eigenvalue(qubit_op)\n",
        "\n",
        "# Print the result\n",
        "#print(result)"
      ],
      "metadata": {
        "id": "pekt-qdHOQjS"
      },
      "execution_count": null,
      "outputs": []
    },
    {
      "cell_type": "markdown",
      "source": [
        "#Etapa de análise\n",
        "\n",
        "A abordagem utilizada para detecção de erros no primeiro código foi por meio da análise do fluxo de dados do algoritmo.\n",
        "\n",
        "A primeira anomalia encontrada estava nos imports gerados. Constatou-se que o framework utilizado, AQUA (Advanced Quantum Architecture), está depreciado desde 2 de abril de 2021, a partir da versão 0.9.0 (Repositório Qiskit Aqua. **Github** ,2019)\n",
        "\n",
        "<a href=\"https://github.com/qiskit-community/qiskit-aqua\n",
        "\" target=\"_blank\"> Repositório Qiskit Aqua</a>"
      ],
      "metadata": {
        "id": "yiygw6uwOfJ_"
      }
    },
    {
      "cell_type": "markdown",
      "source": [
        "<h1>Atualização das bibliotecas</h1>\n",
        "\n",
        "De acordo com a documentação oficial de  <a href=\"https://github.com/qiskit-community/qiskit-aqua/blob/main/docs/tutorials/Qiskit%20Algorithms%20Migration%20Guide.ipynb\n",
        "\" target=\"_blank\"> migração de algoritmos Qiskit</a>, as seguintes atualizações foram feitas:\n",
        "\n",
        ">**Quantum instance**\n",
        "\n",
        "\n"
      ],
      "metadata": {
        "id": "zRNU7lytRGA9"
      }
    },
    {
      "cell_type": "code",
      "source": [
        "#antes\n",
        "from qiskit.aqua import QuantumInstance\n",
        "\n",
        "#atual\n",
        "from qiskit.utils import QuantumInstance"
      ],
      "metadata": {
        "id": "R7HK3vjNUPdI"
      },
      "execution_count": null,
      "outputs": []
    },
    {
      "cell_type": "markdown",
      "source": [
        ">**Otimizadores**"
      ],
      "metadata": {
        "id": "Lcn_eKBDUaz_"
      }
    },
    {
      "cell_type": "code",
      "source": [
        "#antes\n",
        "from qiskit.aqua.components.optimizers import COBYLA\n",
        "\n",
        "#atual\n",
        "from qiskit.algorithms.optimizers import COBYLA"
      ],
      "metadata": {
        "id": "Go2IkcYVUaZ_"
      },
      "execution_count": null,
      "outputs": []
    },
    {
      "cell_type": "markdown",
      "source": [
        ">**Algorítmos**"
      ],
      "metadata": {
        "id": "49-kownVVUqp"
      }
    },
    {
      "cell_type": "code",
      "source": [
        "#antes\n",
        "from qiskit.aqua.algorithms import QAOA\n",
        "\n",
        "#atual\n",
        "from qiskit.algorithms.minimum_eigensolvers import QAOA"
      ],
      "metadata": {
        "id": "QGl_YY0IVU1E"
      },
      "execution_count": null,
      "outputs": []
    },
    {
      "cell_type": "markdown",
      "source": [
        "#Construção do portfólio para análise\n",
        "\n",
        "Ainda na atualização de importações, constatou-se que o acesso \"qiskit.finance\" também está depreciado, ao que a documentação oficial para o <a href=\"https://qiskit.org/ecosystem/finance/tutorials/01_portfolio_optimization.html\n",
        "\" target=\"_blank\"> qiskit-finance 0.3.4</a> utiliza \"qiskit_finance\" para importar o módulo \"PortfolioOptimization\". Isso também implica na mudança na construção do objeto portfolio, como é demonstrado abaixo.\n"
      ],
      "metadata": {
        "id": "1qGF9wWSXBUO"
      }
    },
    {
      "cell_type": "code",
      "source": [
        "#antes\n",
        "from qiskit.finance.applications.ising import portfolio\n",
        "#e\n",
        "portfolio = portfolio.Portfolio(expected_returns=mu, covariances=sigma, budget=budget)\n",
        "\n",
        "#depois\n",
        "from qiskit_finance.applications.optimization import PortfolioOptimization\n",
        "#e\n",
        "q = float(0.5)#Fator de risco deve ser adicionado para nova implementação\n",
        "portfolio = PortfolioOptimization(expected_returns=mu, covariances=sigma, risk_factor=q, budget=budget)\n"
      ],
      "metadata": {
        "id": "zJqjonMwYFL4"
      },
      "execution_count": null,
      "outputs": []
    },
    {
      "cell_type": "markdown",
      "source": [
        "#Símbolo de ativo desatualizado\n",
        "\n",
        "Como pode ser observado no algoritmo gerado por ChatGPT, os ativos utilizados de exemplo para a otimização de portfólio incluem as bigtechs Google, Microsoft, Apple, Facebook e Amazon. Observou-se, no entanto, que havia uma série indesejada de NaN sendo recuperada juntamente das demais séries históricas"
      ],
      "metadata": {
        "id": "CyTkQlJrbCOj"
      }
    },
    {
      "cell_type": "markdown",
      "source": [
        "![image.png](data:image/png;base64,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)"
      ],
      "metadata": {
        "id": "QngHvYpkb4HU"
      }
    },
    {
      "cell_type": "markdown",
      "source": [
        "Após substituir o símbolo 'FB' por 'META', o problema foi solucionado"
      ],
      "metadata": {
        "id": "oHID8elIcWPR"
      }
    },
    {
      "cell_type": "markdown",
      "source": [
        "#Cálculo dos ganhos diários\n",
        "\n",
        "Duas opções foram consideradas para o cálculo dos ganhos diários de cada ativo:\n",
        "- Erro percentual de cada registro\n",
        "- Retorno logaritimico\n",
        "\n"
      ],
      "metadata": {
        "id": "tYJeh5eEeYem"
      }
    },
    {
      "cell_type": "markdown",
      "source": [
        "A implementação abaixo faz uso de erro percentual, conforme fora desenvolvido previamente para a implementação clássica da otimização de Markowitz:\n"
      ],
      "metadata": {
        "id": "EOQjSzHCFCXb"
      }
    },
    {
      "cell_type": "code",
      "execution_count": null,
      "metadata": {
        "id": "IX5kc-PVe4d5"
      },
      "outputs": [],
      "source": [
        "import numpy as np\n",
        "import pandas as pd\n",
        "from pandas_datareader import data as pdr\n",
        "import yfinance as yf\n",
        "import matplotlib.pyplot as plt\n",
        "\n",
        "from qiskit_finance.applications.optimization import PortfolioOptimization\n",
        "from qiskit.algorithms.minimum_eigensolvers import QAOA\n",
        "from qiskit.algorithms.optimizers import COBYLA\n",
        "from qiskit_aer.primitives import Sampler\n",
        "from qiskit_optimization.algorithms import MinimumEigenOptimizer\n",
        "\n",
        "yf.pdr_override()\n",
        "\n",
        "# Defina os ativos para os quais queremos os dados\n",
        "assets = ['AAPL', 'MSFT', 'META', 'GOOG', 'AMZN']#ChatGpt utilizou FB ao invés de META - gerando séries de 'nan'\n",
        "\n",
        "# Defina o intervalo de datas para o qual queremos os dados\n",
        "start_date = '2022-12-01'\n",
        "end_date = '2022-12-31'\n",
        "\n",
        "# Obtenha os dados do Yahoo Finance\n",
        "data_raw = pdr.DataReader(assets, start=start_date, end=end_date)\n",
        "\n",
        "# Use apenas o preço de fechamento\n",
        "data = []\n",
        "data = data_raw['Close']\n",
        "\n",
        "#o laço while abaixo calcula os erros percentuais consecutivos\n",
        "returns_dictio = {}\n",
        "i = 0\n",
        "while(i<len(assets)):\n",
        "  j=1\n",
        "  stocks_registry = []\n",
        "  key = assets[i]\n",
        "  while(j<len(data[key])):\n",
        "    stocks_registry.append((data[key][j]-data[key][j-1])/data[key][j-1])\n",
        "    j+=1\n",
        "  returns_dictio[key] = stocks_registry\n",
        "  i +=1\n",
        "\n",
        "returns = pd.DataFrame(returns_dictio)\n",
        "print(returns)\n",
        "\n",
        "# Calcule os retornos médios e a matriz de covariância!!!!!\n",
        "mu = returns.mean().values\n",
        "sigma = returns.cov().values\n",
        "\n",
        "print(mu)\n",
        "print(sigma)\n",
        "\n",
        "# Defina o orçamento\n",
        "budget = 2\n",
        "\n",
        "# Crie uma instância do problema de otimização de portfólio\n",
        "q = float(0.5)\n",
        "\n",
        "portfolio = PortfolioOptimization(expected_returns=mu, covariances=sigma, risk_factor=q, budget=budget)\n",
        "qp = portfolio.to_quadratic_program()"
      ]
    },
    {
      "cell_type": "markdown",
      "source": [
        "Define uma função para exibição dos resultados. Retirada da  documentação <a href=\"https://qiskit.org/ecosystem/finance/tutorials/01_portfolio_optimization.html\n",
        "\" target=\"_blank\"> otimização de portfólios com qiskit-finance 0.3.4</a>\n",
        "\n"
      ],
      "metadata": {
        "id": "RMZxkzFWMMMI"
      }
    },
    {
      "cell_type": "code",
      "source": [
        "def print_result(result):\n",
        "    selection = result.x\n",
        "    value = result.fval\n",
        "    print(\"Optimal: selection {}, value {:.4f}\".format(selection, value))\n",
        "\n",
        "    eigenstate = result.min_eigen_solver_result.eigenstate\n",
        "    probabilities = (\n",
        "        eigenstate.binary_probabilities()\n",
        "        if isinstance(eigenstate, QuasiDistribution)\n",
        "        else {k: np.abs(v) ** 2 for k, v in eigenstate.to_dict().items()}\n",
        "    )\n",
        "    print(\"\\n----------------- Full result ---------------------\")\n",
        "    print(\"selection\\tvalue\\t\\tprobability\")\n",
        "    print(\"---------------------------------------------------\")\n",
        "    probabilities = sorted(probabilities.items(), key=lambda x: x[1], reverse=True)\n",
        "\n",
        "    for k, v in probabilities:\n",
        "        x = np.array([int(i) for i in list(reversed(k))])\n",
        "        value = portfolio.to_quadratic_program().objective.evaluate(x)\n",
        "        print(\"%10s\\t%.4f\\t\\t%.4f\" % (x, value, v))"
      ],
      "metadata": {
        "id": "2VJ8HLY9cdLY"
      },
      "execution_count": 20,
      "outputs": []
    },
    {
      "cell_type": "markdown",
      "source": [
        "Solução com QAOA e COBYLA. Retirada da  documentação <a href=\"https://qiskit.org/ecosystem/finance/tutorials/01_portfolio_optimization.html\n",
        "\" target=\"_blank\"> otimização de portfólios com qiskit-finance 0.3.4</a>"
      ],
      "metadata": {
        "id": "ir1yXu0qNO0D"
      }
    },
    {
      "cell_type": "code",
      "source": [
        "#algorithm_globals.random_seed = 1234\n",
        "\n",
        "cobyla = COBYLA()\n",
        "cobyla.set_options(maxiter=250)\n",
        "qaoa_mes = QAOA(sampler=Sampler(), optimizer=cobyla, reps=3)\n",
        "qaoa = MinimumEigenOptimizer(qaoa_mes)\n",
        "result = qaoa.solve(qp)\n",
        "\n",
        "print_result(result)"
      ],
      "metadata": {
        "colab": {
          "base_uri": "https://localhost:8080/"
        },
        "id": "vqXWMIWfaO9G",
        "outputId": "a41fc23a-586c-4a1d-bec8-95bdd23a4991"
      },
      "execution_count": 25,
      "outputs": [
        {
          "output_type": "stream",
          "name": "stdout",
          "text": [
            "Optimal: selection [0. 0. 0. 1. 1.], value 0.0039\n",
            "\n",
            "----------------- Full result ---------------------\n",
            "selection\tvalue\t\tprobability\n",
            "---------------------------------------------------\n",
            "[1 0 0 0 1]\t0.0102\t\t0.0928\n",
            "[1 0 0 1 0]\t0.0076\t\t0.0918\n",
            "[1 0 1 0 0]\t0.0138\t\t0.0898\n",
            "[0 1 0 1 0]\t0.0076\t\t0.0869\n",
            "[0 1 1 0 0]\t0.0137\t\t0.0830\n",
            "[0 1 0 0 1]\t0.0101\t\t0.0801\n",
            "[0 0 1 0 1]\t0.0102\t\t0.0791\n",
            "[0 0 0 1 1]\t0.0039\t\t0.0791\n",
            "[0 0 1 1 0]\t0.0077\t\t0.0791\n",
            "[1 1 0 0 0]\t0.0138\t\t0.0732\n",
            "[0 0 0 1 0]\t0.0005\t\t0.0215\n",
            "[0 0 1 0 0]\t0.0068\t\t0.0166\n",
            "[0 0 0 0 1]\t0.0031\t\t0.0156\n",
            "[0 1 0 0 0]\t0.0067\t\t0.0146\n",
            "[1 0 0 0 0]\t0.0068\t\t0.0137\n",
            "[0 0 1 1 1]\t0.0114\t\t0.0117\n",
            "[0 0 0 0 0]\t0.0000\t\t0.0117\n",
            "[0 1 1 1 0]\t0.0151\t\t0.0068\n",
            "[1 0 0 1 1]\t0.0114\t\t0.0068\n",
            "[1 0 1 1 0]\t0.0151\t\t0.0068\n",
            "[0 1 1 0 1]\t0.0174\t\t0.0059\n",
            "[1 1 1 0 0]\t0.0211\t\t0.0059\n",
            "[1 1 0 0 1]\t0.0175\t\t0.0049\n",
            "[1 1 1 1 1]\t0.0271\t\t0.0039\n",
            "[1 0 1 0 1]\t0.0175\t\t0.0039\n",
            "[0 1 0 1 1]\t0.0114\t\t0.0029\n",
            "[1 1 0 1 0]\t0.0151\t\t0.0029\n",
            "[0 1 1 1 1]\t0.0191\t\t0.0029\n",
            "[1 1 1 0 1]\t0.0251\t\t0.0020\n",
            "[1 1 1 1 0]\t0.0228\t\t0.0020\n",
            "[1 0 1 1 1]\t0.0191\t\t0.0010\n",
            "[1 1 0 1 1]\t0.0191\t\t0.0010\n"
          ]
        }
      ]
    },
    {
      "cell_type": "markdown",
      "source": [
        "#Ganhos diários logaritimicos com séries de dados aleatórios\n",
        "\n",
        "A implementação a seguir é idêntica à abordagem anterior, substituindo apenas as séries históricas de ativos por séries de números aleatórios, bem como o cálculo de erros percentuais por ganho logaritimico.\n",
        " Os trechos mencionados foram retirados da  documentação <a href=\"https://qiskit.org/ecosystem/finance/tutorials/01_portfolio_optimization.html\n",
        "\" target=\"_blank\"> otimização de portfólios com qiskit-finance 0.3.4</a>\n",
        "\n",
        "\n"
      ],
      "metadata": {
        "id": "JJExxTVzqKNu"
      }
    },
    {
      "cell_type": "code",
      "source": [
        "from qiskit.algorithms.minimum_eigensolvers import QAOA\n",
        "from qiskit.algorithms.optimizers import COBYLA\n",
        "from qiskit_aer.primitives import Sampler\n",
        "from qiskit_finance.applications.optimization import PortfolioOptimization\n",
        "from qiskit_finance.data_providers import RandomDataProvider\n",
        "from qiskit_optimization.algorithms import MinimumEigenOptimizer\n",
        "import numpy as np\n",
        "import matplotlib.pyplot as plt\n",
        "import datetime\n",
        "\n",
        "# set number of assets (= number of qubits)\n",
        "num_assets = 4\n",
        "seed = 123\n",
        "\n",
        "# Generate expected return and covariance matrix from (random) time-series\n",
        "stocks = [(\"TICKER%s\" % i) for i in range(num_assets)]\n",
        "data = RandomDataProvider(\n",
        "    tickers=stocks,\n",
        "    start=datetime.datetime(2016, 1, 1),\n",
        "    end=datetime.datetime(2016, 1, 30),\n",
        "    seed=seed,\n",
        ")\n",
        "data.run()\n",
        "mu = data.get_period_return_mean_vector()\n",
        "sigma = data.get_period_return_covariance_matrix()\n",
        "\n"
      ],
      "metadata": {
        "id": "iseRTaBMcKd5"
      },
      "execution_count": 46,
      "outputs": []
    },
    {
      "cell_type": "code",
      "source": [
        "q = 0.5  # set risk factor\n",
        "budget = num_assets // 2  # set budget\n",
        "penalty = num_assets  # set parameter to scale the budget penalty term\n",
        "\n",
        "portfolio = PortfolioOptimization(\n",
        "    expected_returns=mu, covariances=sigma, risk_factor=q, budget=budget\n",
        ")\n",
        "qp = portfolio.to_quadratic_program()"
      ],
      "metadata": {
        "id": "56nvb2LdcTl3"
      },
      "execution_count": 47,
      "outputs": []
    },
    {
      "cell_type": "code",
      "source": [
        "cobyla = COBYLA()\n",
        "cobyla.set_options(maxiter=250)\n",
        "qaoa_mes = QAOA(sampler=Sampler(), optimizer=cobyla, reps=3)\n",
        "qaoa = MinimumEigenOptimizer(qaoa_mes)\n",
        "result = qaoa.solve(qp)\n",
        "\n",
        "print_result(result)"
      ],
      "metadata": {
        "id": "NuZKR1TwqEAh",
        "colab": {
          "base_uri": "https://localhost:8080/"
        },
        "outputId": "370eaa11-a98a-4f36-b37a-af33b8b28232"
      },
      "execution_count": 48,
      "outputs": [
        {
          "output_type": "stream",
          "name": "stdout",
          "text": [
            "Optimal: selection [1. 0. 0. 1.], value -0.0149\n",
            "\n",
            "----------------- Full result ---------------------\n",
            "selection\tvalue\t\tprobability\n",
            "---------------------------------------------------\n",
            " [1 0 0 1]\t-0.0149\t\t0.1641\n",
            " [1 1 0 0]\t-0.0130\t\t0.1562\n",
            " [0 0 1 1]\t-0.0010\t\t0.1533\n",
            " [0 1 0 1]\t0.0002\t\t0.1504\n",
            " [0 1 1 0]\t0.0008\t\t0.1396\n",
            " [1 0 1 0]\t-0.0140\t\t0.1328\n",
            " [1 1 0 1]\t-0.0139\t\t0.0195\n",
            " [1 0 1 1]\t-0.0150\t\t0.0176\n",
            " [1 1 1 0]\t-0.0130\t\t0.0156\n",
            " [1 0 0 0]\t-0.0140\t\t0.0156\n",
            " [0 1 1 1]\t-0.0000\t\t0.0127\n",
            " [1 1 1 1]\t-0.0139\t\t0.0088\n",
            " [0 0 0 1]\t-0.0008\t\t0.0088\n",
            " [0 1 0 0]\t0.0009\t\t0.0020\n",
            " [0 0 1 0]\t-0.0001\t\t0.0020\n",
            " [0 0 0 0]\t0.0000\t\t0.0010\n"
          ]
        }
      ]
    }
  ]
}